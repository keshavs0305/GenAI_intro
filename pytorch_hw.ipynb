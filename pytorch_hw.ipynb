{
 "cells": [
  {
   "cell_type": "code",
   "execution_count": null,
   "id": "38e28403",
   "metadata": {},
   "outputs": [],
   "source": []
  },
  {
   "cell_type": "markdown",
   "id": "14e93132",
   "metadata": {},
   "source": [
    "1. load the sentiment analysis data(test.csv)\n",
    "data: https://www.kaggle.com/datasets/abhi8923shriv/sentiment-analysis-dataset?select=test.csv\n",
    "2. you have to perform some preprocessing\n",
    "3. there should be two columns(text,sentiment)\n",
    "4. then perform text encoding or embedding over the text data and label encoding on target column\n",
    "5. write a rnn code in pytorch from scratch to train sentiment analysis model on batch data using dataset and dataloader\n",
    "6. then test it out on random example"
   ]
  },
  {
   "cell_type": "markdown",
   "id": "0bc856a3",
   "metadata": {},
   "source": []
  }
 ],
 "metadata": {
  "language_info": {
   "name": "python"
  }
 },
 "nbformat": 4,
 "nbformat_minor": 5
}
